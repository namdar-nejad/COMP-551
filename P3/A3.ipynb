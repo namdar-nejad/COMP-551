{
  "nbformat": 4,
  "nbformat_minor": 0,
  "metadata": {
    "colab": {
      "name": "A3.ipynb",
      "provenance": [],
      "collapsed_sections": []
    },
    "kernelspec": {
      "name": "python3",
      "display_name": "Python 3"
    },
    "language_info": {
      "name": "python"
    }
  },
  "cells": [
    {
      "cell_type": "code",
      "execution_count": null,
      "metadata": {
        "id": "P3asAlAV9Bff"
      },
      "outputs": [],
      "source": [
        "import sys\n",
        "import numpy as np\n",
        "import keras\n",
        "from tensorflow.keras import models, layers\n",
        "import tensorflow.keras\n",
        "import tensorflow as tf\n",
        "from keras.utils import np_utils\n",
        "from keras.datasets import fashion_mnist\n",
        "from tensorflow.keras.utils import to_categorical\n",
        "from collections import Counter\n",
        "import matplotlib.pyplot as plt\n",
        "%matplotlib inline\n",
        "import warnings\n",
        "# from scipy.special import softmax\n",
        "warnings.filterwarnings('ignore')"
      ]
    },
    {
      "cell_type": "code",
      "source": [
        "(x_train, y_train), (x_test, y_test) = fashion_mnist.load_data()\n",
        "(x_train_raw, y_train), (x_test_raw, y_test) = fashion_mnist.load_data()\n",
        "y_train_raw = y_train\n",
        "y_test_raw = y_test\n",
        "num_classes = 10\n",
        "batch_size = 100"
      ],
      "metadata": {
        "id": "XFhU5Q8YC6OR",
        "colab": {
          "base_uri": "https://localhost:8080/"
        },
        "outputId": "db68f1f8-3cae-4d89-d661-e6cc17599292"
      },
      "execution_count": null,
      "outputs": [
        {
          "output_type": "stream",
          "name": "stdout",
          "text": [
            "Downloading data from https://storage.googleapis.com/tensorflow/tf-keras-datasets/train-labels-idx1-ubyte.gz\n",
            "32768/29515 [=================================] - 0s 0us/step\n",
            "40960/29515 [=========================================] - 0s 0us/step\n",
            "Downloading data from https://storage.googleapis.com/tensorflow/tf-keras-datasets/train-images-idx3-ubyte.gz\n",
            "26427392/26421880 [==============================] - 0s 0us/step\n",
            "26435584/26421880 [==============================] - 0s 0us/step\n",
            "Downloading data from https://storage.googleapis.com/tensorflow/tf-keras-datasets/t10k-labels-idx1-ubyte.gz\n",
            "16384/5148 [===============================================================================================] - 0s 0us/step\n",
            "Downloading data from https://storage.googleapis.com/tensorflow/tf-keras-datasets/t10k-images-idx3-ubyte.gz\n",
            "4423680/4422102 [==============================] - 0s 0us/step\n",
            "4431872/4422102 [==============================] - 0s 0us/step\n"
          ]
        }
      ]
    },
    {
      "cell_type": "code",
      "source": [
        "def re_scale(data,new_min=0,new_max=1):\n",
        "\told_range=np.max(data)-np.min(data)\n",
        "\told_min=np.min(data)\n",
        "\tnew_range=new_max-new_min\n",
        "\tnew_data=((data-old_min)*new_range)/old_range+new_min\n",
        "\treturn np.reshape(new_data,[-1,28,28,1]).astype('float32')"
      ],
      "metadata": {
        "id": "SjeHolA6LTfL"
      },
      "execution_count": null,
      "outputs": []
    },
    {
      "cell_type": "code",
      "source": [
        "def normolize_data(train, test):\n",
        "  train = re_scale(x_train)\n",
        "  test = re_scale(x_test)\n",
        "  \n",
        "  return train, test"
      ],
      "metadata": {
        "id": "DjoZUANotrm7"
      },
      "execution_count": null,
      "outputs": []
    },
    {
      "cell_type": "code",
      "source": [
        "x_train, x_test = normolize_data(x_train, x_test)\n",
        "y_train = keras.utils.np_utils.to_categorical(y_train, num_classes)\n",
        "y_test = keras.utils.np_utils.to_categorical(y_test, num_classes)\n",
        "\n",
        "#flatten all train and test arrays\n",
        "x_train_flat = np.array([x.flatten() for x in x_train])\n",
        "#x_train_flat = x_train_flat[:10000]\n",
        "x_test_flat = np.array([x.flatten() for x in x_test])\n",
        "\n",
        "#flatten all train and test arrays\n",
        "x_train_flat_raw = np.array([x.flatten() for x in x_train_raw])\n",
        "#x_train_flat = x_train_flat[:10000]\n",
        "x_test_flat_raw = np.array([x.flatten() for x in x_test_raw])\n",
        "print('x_train shape:', x_train.shape)\n",
        "print('x_test shape:',  x_test.shape)\n",
        "print('x_train_flat shape:', x_train_flat.shape)\n",
        "print('x_test_flat shape:',  x_test_flat.shape)\n",
        "print(y_train.shape)"
      ],
      "metadata": {
        "id": "N4gpVF2EJ5L7",
        "colab": {
          "base_uri": "https://localhost:8080/"
        },
        "outputId": "2cc48bd7-1435-41ca-ccab-fd825ce31f76"
      },
      "execution_count": null,
      "outputs": [
        {
          "output_type": "stream",
          "name": "stdout",
          "text": [
            "x_train shape: (60000, 28, 28, 1)\n",
            "x_test shape: (10000, 28, 28, 1)\n",
            "x_train_flat shape: (60000, 784)\n",
            "x_test_flat shape: (10000, 784)\n",
            "(60000, 10)\n"
          ]
        }
      ]
    },
    {
      "cell_type": "markdown",
      "source": [
        "Distribution of Training and Testing Data"
      ],
      "metadata": {
        "id": "Chr_DNF2B8Vu"
      }
    },
    {
      "cell_type": "code",
      "source": [
        "y_dist_train = Counter(y_train_raw)\n",
        "y_dist_test = Counter(y_test_raw)\n",
        "x = np.arange(10)\n",
        "y_dist_train = [int(y_dist_train[z]) for z in x]\n",
        "y_dist_test = [y_dist_test[z] for z in x]\n",
        "\n",
        "\n",
        "width = 0.35  # the width of the bars\n",
        "fig, ax = plt.subplots()\n",
        "rects1 = ax.bar(x - width/2, y_dist_train, width, label='Train')\n",
        "rects2 = ax.bar(x + width/2, y_dist_test, width, label='Test')\n",
        "\n",
        "# Add some text for labels, title and custom x-axis tick labels, etc.\n",
        "ax.set_ylabel('Number of instances')\n",
        "ax.set_title('Distribution Of Data')\n",
        "ax.legend()\n",
        "\n",
        "\n",
        "\n",
        "fig.tight_layout()\n",
        "\n",
        "plt.show()"
      ],
      "metadata": {
        "colab": {
          "base_uri": "https://localhost:8080/",
          "height": 297
        },
        "id": "YVehy1Ew7dCB",
        "outputId": "e6e34395-1560-4022-e0bc-4390c8848922"
      },
      "execution_count": null,
      "outputs": [
        {
          "output_type": "display_data",
          "data": {
            "text/plain": [
              "<Figure size 432x288 with 1 Axes>"
            ],
            "image/png": "[encoded data removed]"
          },
          "metadata": {
            "needs_background": "light"
          }
        }
      ]
    },
    {
      "cell_type": "code",
      "source": [
        "class GradientDescent:\n",
        "    \n",
        "    def __init__(self, x_val, y_val, learning_rate=.001, max_iters=1e3, epsilon=1e-8, batch_size=1000):\n",
        "        self.learning_rate = learning_rate\n",
        "        self.max_iters = max_iters\n",
        "        self.epsilon = epsilon\n",
        "        self.batch_size = batch_size\n",
        "        self.x_val = x_val\n",
        "        self.y_val = y_val\n",
        "        \n",
        "    def run(self, gradient_fn, x, y, weights, biases, model, dropout=False, dropout_percent=0):\n",
        "        norms = np.array([np.inf])\n",
        "        t = 1\n",
        "        train_acc = []\n",
        "        val_acc = []\n",
        "        epoch = []\n",
        "        while np.any(norms > self.epsilon) and t < self.max_iters:\n",
        "            for i in range(len(y)//self.batch_size):\n",
        "                l = i*batch_size\n",
        "                r = min(l + batch_size, len(y))\n",
        "                grad_W, grad_B = gradient_fn(x[l:r], y[l:r], l,r, dropout, dropout_percent)\n",
        "                for p in range(len(weights)):\n",
        "                    weights[p] -= self.learning_rate * grad_W[p]\n",
        "                    biases[p] -= self.learning_rate * grad_B[p]\n",
        "            train_yh = model.predict(x)\n",
        "            val_yh = model.predict(self.x_val)\n",
        "            train_acc.append(evaluate_acc(train_yh, y))\n",
        "            val_acc.append(evaluate_acc(val_yh, self.y_val))\n",
        "            epoch.append(t)\n",
        "            t += 1\n",
        "        \n",
        "            norms = np.array([np.linalg.norm(g) for g in grad_W])\n",
        "\n",
        "        plt.plot(epoch, train_acc, 'r')\n",
        "        plt.plot(epoch, val_acc, 'b')\n",
        "        plt.xlabel(\"Epochs\")\n",
        "        plt.ylabel(\"Accuracy\")\n",
        "        plt.legend([\"Train\", \"Test\"])\n",
        "        plt.show()\n",
        "        return weights, biases"
      ],
      "metadata": {
        "id": "YYZ751nf_yDr"
      },
      "execution_count": null,
      "outputs": []
    },
    {
      "cell_type": "code",
      "source": [
        "from IPython.core.display import display_json\n",
        "leaky_relu = lambda z: np.maximum(0.01*z, z)\n",
        "def leaky_relu_prime(z):\n",
        "    dz = np.ones_like(z)\n",
        "    dz[z < 0] = 0.01\n",
        "    return dz\n",
        "\n",
        "relu = lambda z: np.maximum(0,z)\n",
        "relu_prime = lambda z: (z > 0).astype(z.dtype)\n",
        "\n",
        "logistic = lambda z: 1./ (1 + np.exp(-z))\n",
        "logistic_prime = lambda z: logistic(z)*(1-logistic(z))\n",
        "\n",
        "tanh = lambda z: 2.*logistic(z) - 1\n",
        "tanh_prime = lambda z: 1 - np.square(tanh(z))\n",
        "\n",
        "linear = lambda z: z\n",
        "linear_prime = lambda z: np.ones_like(z)\n",
        "\n",
        "cube_root = lambda z: np.cbrt(z)\n",
        "cube_root_prime = lambda z: np.where(z!=0, (1/(3*np.square(np.cbrt(z)))), 0)\n",
        "\n",
        "swish = lambda z: z/(1 + np.exp(-z))\n",
        "swish_prime = lambda z: swish(z)+logistic(z)*(1-swish(z))\n",
        "\n",
        "def softmax(s):\n",
        "    exps = np.exp(s - np.max(s, axis=1, keepdims=True))\n",
        "    return exps/np.sum(exps, axis=1, keepdims=True)\n",
        "\n",
        "class MLP:\n",
        "    def __init__(self, active_func, active_func_prime, num_hidden_layers, width, optimizer, dropout=False, dropout_percent = 0):\n",
        "        # Activation Function and its derivative\n",
        "        self.active_func = active_func\n",
        "        self.active_func_prime = active_func_prime\n",
        "\n",
        "        # Depth = Number of weight sets = Num of layers - 1\n",
        "        self.depth = num_hidden_layers + 1\n",
        "\n",
        "        # Width = Number of nodes per layer in the hidden layer (is a list because it can changer per layer)\n",
        "        self.width = width\n",
        "        self.num_hidden_layers = num_hidden_layers\n",
        "        self.optimizer = optimizer\n",
        "        self.dropout = dropout\n",
        "        self.dropout_percent = dropout_percent\n",
        "\n",
        "    def computeValues(self,x,y):\n",
        "        n_samples, n_features = x.shape\n",
        "        n_classes = y.shape[1]\n",
        "\n",
        "        if self.num_hidden_layers == 0:\n",
        "            self.weights = [np.random.randn(n_features, num_classes).astype('float64')]\n",
        "            self.bias = [np.zeros((1,n_classes)).astype('float64')]\n",
        "        else:\n",
        "            i_to_l1 = np.random.uniform(-1,1,(n_features, self.width[0])).astype('float64') * 0.1\n",
        "            i_to_l1_b = np.zeros((1,self.width[0])).astype('float64')\n",
        "            hidden_layer_weights = [np.random.uniform(-1,1,(self.width[i], self.width[i+1])).astype('float64')* 0.1 for i in range(self.num_hidden_layers-1)]\n",
        "            hidden_layer_biases = [np.zeros((1, self.width[i+1])).astype('float64') for i in range(self.num_hidden_layers-1)]\n",
        "            ln_to_o = np.random.uniform(-1,1,(self.width[-1], num_classes)).astype('float64')* 0.1\n",
        "            ln_to_o_b = np.zeros((1,n_classes)).astype('float64')\n",
        "\n",
        "            self.weights = [i_to_l1] + hidden_layer_weights + [ln_to_o]\n",
        "            self.bias = [i_to_l1_b] + hidden_layer_biases + [ln_to_o_b]\n",
        "        self.values = [0 for i in range(self.depth+1)]\n",
        "        self.pre_active_values = [0 for i in range (self.depth)]\n",
        "\n",
        "    def fit(self,x,y):\n",
        "        # pre_active_values(z) -> Vx,\n",
        "        # values(a) -> z\n",
        "        num_samples, num_features = x.shape\n",
        "        _, num_classes = y.shape\n",
        "        # finish initializing the weights\n",
        "        self.computeValues(x,y)\n",
        "        self.values[0] = x\n",
        "        self.weights, self.bias = self.optimizer.run(self.gradient, x, y, self.weights, self.bias, self, self.dropout, self.dropout_percent)\n",
        "        #print(self.weights)\n",
        "        return self\n",
        "    \n",
        "    def gradient(self, x,y,l,r, dropout=False, dropout_percent = 0):\n",
        "        # Forwards\n",
        "        for i in range(1, len(self.values)-1):\n",
        "            # values[0] = x, weight[0] = weights between input and layer 1, bias[0] = bias between input and layer 1\n",
        "            self.pre_active_values[i-1] = np.dot(self.values[i-1], self.weights[i-1])+self.bias[i-1]\n",
        "            self.values[i] = self.active_func(self.pre_active_values[i-1])\n",
        "            if dropout:\n",
        "                self.values[i] *= np.random.binomial([np.ones((self.values[i].shape))],1-dropout_percent)[0] * (1.0/(1-dropout_percent))\n",
        "        self.pre_active_values[-1] = (np.dot(self.values[-2], self.weights[-1])+self.bias[-1])\n",
        "        self.values[-1] = softmax(self.pre_active_values[-1])\n",
        "\n",
        "        # Backwards\n",
        "        chain = self.values[-1][l:r]-y   # dL/dy * dy/du\n",
        "        grad_w = np.dot(self.values[-2][l:r].T, chain) / x.shape[0]\n",
        "        grad_w_b = np.sum(chain, axis=0, keepdims=True) / x.shape[0] \n",
        "        derivs_w = [grad_w]\n",
        "        derivs_w_b = [grad_w_b] \n",
        "\n",
        "        for i in range(1, self.depth):\n",
        "            chain = np.dot(chain, self.weights[-i].T) * self.active_func_prime(self.pre_active_values[-i-1][l:r])\n",
        "            grad_v = np.dot(self.values[-i-2][l:r].T, chain) / x.shape[0] #dV\n",
        "            grad_v_b = np.sum(chain, axis=0, keepdims=True) / x.shape[0] \n",
        "            derivs_w.append(grad_v)\n",
        "            derivs_w_b.append(grad_v_b)\n",
        "\n",
        "        return list(reversed(derivs_w)), list(reversed(derivs_w_b))\n",
        "        \n",
        "    def predict(self, x):\n",
        "        # Start with x as input\n",
        "        input_per_layer = x    \n",
        "\n",
        "        for i in range(len(self.weights)-1):\n",
        "            input_per_layer = self.active_func(np.dot(input_per_layer, self.weights[i]))\n",
        "        \n",
        "        yh = softmax(np.dot(input_per_layer, self.weights[-1]))\n",
        "        return yh\n",
        "\n",
        "def evaluate_acc(y_pred, y_true):\n",
        "    y_pred = np.argmax(y_pred, axis=1)\n",
        "    y_true = np.argmax(y_true, axis=1)\n",
        "    return np.sum(y_pred == y_true)/y_pred.shape[0]\n",
        "    \n",
        "    "
      ],
      "metadata": {
        "id": "opOCXtJVPNmr"
      },
      "execution_count": null,
      "outputs": []
    },
    {
      "cell_type": "markdown",
      "source": [
        "## Task 1\n",
        "\n",
        "No layers\n",
        "\n"
      ],
      "metadata": {
        "id": "vDf9jdtikrRv"
      }
    },
    {
      "cell_type": "code",
      "source": [
        "grad = GradientDescent(x_test_flat, y_test,learning_rate=0.01, max_iters=100, batch_size=10000)\n",
        "mlp = MLP(relu , relu_prime, 0, [], grad)\n",
        "\n",
        "mlp.fit(x_train_flat,y_train)\n",
        "\n",
        "yh = mlp.predict(x_test_flat)\n",
        "ytrainh = mlp.predict(x_train_flat)\n",
        "\n",
        "np.set_printoptions(threshold=sys.maxsize)\n",
        "\n",
        "print(\"Train: \", evaluate_acc(ytrainh, y_train))\n",
        "print(\"Test: \", evaluate_acc(yh, y_test))\n",
        "\n"
      ],
      "metadata": {
        "id": "0RKgk22NAkkI",
        "colab": {
          "base_uri": "https://localhost:8080/",
          "height": 313
        },
        "outputId": "d481e740-2994-4f85-ee30-4b87687a9e26"
      },
      "execution_count": null,
      "outputs": [
        {
          "output_type": "display_data",
          "data": {
            "text/plain": [
              "<Figure size 432x288 with 1 Axes>"
            ],
            "image/png": "[encoded data removed]"
          },
          "metadata": {
            "needs_background": "light"
          }
        },
        {
          "output_type": "stream",
          "name": "stdout",
          "text": [
            "Train:  0.6977666666666666\n",
            "Test:  0.6827\n"
          ]
        }
      ]
    },
    {
      "cell_type": "markdown",
      "source": [
        "1 Hidden Layer"
      ],
      "metadata": {
        "id": "jsbAFR5SLlu8"
      }
    },
    {
      "cell_type": "code",
      "source": [
        "grad = GradientDescent(x_test_flat, y_test,learning_rate=0.01, max_iters=100, batch_size=10000)\n",
        "mlp = MLP(relu , relu_prime, 1, [128], grad)\n",
        "\n",
        "mlp.fit(x_train_flat,y_train)\n",
        "\n",
        "yh = mlp.predict(x_test_flat)\n",
        "ytrainh = mlp.predict(x_train_flat)\n",
        "\n",
        "np.set_printoptions(threshold=sys.maxsize)\n",
        "\n",
        "print(\"Train: \", evaluate_acc(ytrainh, y_train))\n",
        "print(\"Test: \", evaluate_acc(yh, y_test))"
      ],
      "metadata": {
        "colab": {
          "base_uri": "https://localhost:8080/",
          "height": 313
        },
        "id": "lvRIz6gGLbFK",
        "outputId": "63227079-70a3-4590-f03a-02e6384f130a"
      },
      "execution_count": null,
      "outputs": [
        {
          "output_type": "display_data",
          "data": {
            "text/plain": [
              "<Figure size 432x288 with 1 Axes>"
            ],
            "image/png": "[encoded data removed]"
          },
          "metadata": {
            "needs_background": "light"
          }
        },
        {
          "output_type": "stream",
          "name": "stdout",
          "text": [
            "Train:  0.6324166666666666\n",
            "Test:  0.6234\n"
          ]
        }
      ]
    },
    {
      "cell_type": "markdown",
      "source": [
        "2 Hidden Layer"
      ],
      "metadata": {
        "id": "H-A4pboKLn5-"
      }
    },
    {
      "cell_type": "code",
      "source": [
        "grad = GradientDescent(x_test_flat, y_test,learning_rate=0.0001, max_iters=300, batch_size=10000)\n",
        "mlp = MLP(relu , relu_prime, 2, [128,128], grad)\n",
        "\n",
        "mlp.fit(x_train_flat,y_train)\n",
        "\n",
        "yh = mlp.predict(x_test_flat)\n",
        "ytrainh = mlp.predict(x_train_flat)\n",
        "\n",
        "np.set_printoptions(threshold=sys.maxsize)\n",
        "\n",
        "print(\"Train: \", evaluate_acc(ytrainh, y_train))\n",
        "print(\"Test: \", evaluate_acc(yh, y_test))"
      ],
      "metadata": {
        "colab": {
          "base_uri": "https://localhost:8080/",
          "height": 313
        },
        "id": "hG3fSUbUoxze",
        "outputId": "c1702239-c238-4952-d1be-bb10b2ca2e8a"
      },
      "execution_count": null,
      "outputs": [
        {
          "output_type": "display_data",
          "data": {
            "text/plain": [
              "<Figure size 432x288 with 1 Axes>"
            ],
            "image/png": "[encoded data removed]"
          },
          "metadata": {
            "needs_background": "light"
          }
        },
        {
          "output_type": "stream",
          "name": "stdout",
          "text": [
            "Train:  0.56755\n",
            "Test:  0.5565\n"
          ]
        }
      ]
    },
    {
      "cell_type": "markdown",
      "source": [
        "## Task 2\n",
        "\n",
        "Tanh"
      ],
      "metadata": {
        "id": "cQjSfITlrP8b"
      }
    },
    {
      "cell_type": "code",
      "source": [
        "grad = GradientDescent(x_test_flat, y_test,learning_rate=0.1, max_iters=100, batch_size=10000)\n",
        "mlp = MLP(tanh , tanh_prime, 2, [128,128], grad)\n",
        "\n",
        "mlp.fit(x_train_flat,y_train)\n",
        "\n",
        "yh = mlp.predict(x_test_flat)\n",
        "ytrainh = mlp.predict(x_train_flat)\n",
        "\n",
        "np.set_printoptions(threshold=sys.maxsize)\n",
        "\n",
        "print(\"Train: \", evaluate_acc(ytrainh, y_train))\n",
        "print(\"Test: \", evaluate_acc(yh, y_test))"
      ],
      "metadata": {
        "colab": {
          "base_uri": "https://localhost:8080/",
          "height": 313
        },
        "id": "75xvV7UXrcV-",
        "outputId": "23df8204-83a5-4712-b467-a1a24b3ca200"
      },
      "execution_count": null,
      "outputs": [
        {
          "output_type": "display_data",
          "data": {
            "text/plain": [
              "<Figure size 432x288 with 1 Axes>"
            ],
            "image/png": "[encoded data removed]"
          },
          "metadata": {
            "needs_background": "light"
          }
        },
        {
          "output_type": "stream",
          "name": "stdout",
          "text": [
            "Train:  0.5575\n",
            "Test:  0.5498\n"
          ]
        }
      ]
    },
    {
      "cell_type": "markdown",
      "source": [
        "Leaky-relu"
      ],
      "metadata": {
        "id": "5jlg7qgMri2B"
      }
    },
    {
      "cell_type": "code",
      "source": [
        "grad = GradientDescent(x_test_flat, y_test,learning_rate=0.01, max_iters=100, batch_size=10000)\n",
        "mlp = MLP(leaky_relu , leaky_relu_prime, 2, [128,128], grad)\n",
        "\n",
        "mlp.fit(x_train_flat,y_train)\n",
        "\n",
        "yh = mlp.predict(x_test_flat)\n",
        "ytrainh = mlp.predict(x_train_flat)\n",
        "\n",
        "np.set_printoptions(threshold=sys.maxsize)\n",
        "\n",
        "print(\"Train: \", evaluate_acc(ytrainh, y_train))\n",
        "print(\"Test: \", evaluate_acc(yh, y_test))"
      ],
      "metadata": {
        "colab": {
          "base_uri": "https://localhost:8080/",
          "height": 313
        },
        "id": "OhTwhSeJrlIp",
        "outputId": "4ea52757-4d81-4715-9997-59543f24fd5a"
      },
      "execution_count": null,
      "outputs": [
        {
          "output_type": "display_data",
          "data": {
            "text/plain": [
              "<Figure size 432x288 with 1 Axes>"
            ],
            "image/png": "[encoded data removed]"
          },
          "metadata": {
            "needs_background": "light"
          }
        },
        {
          "output_type": "stream",
          "name": "stdout",
          "text": [
            "Train:  0.6572333333333333\n",
            "Test:  0.6475\n"
          ]
        }
      ]
    },
    {
      "cell_type": "markdown",
      "source": [
        "## Task 3\n",
        "\n",
        "Dropout"
      ],
      "metadata": {
        "id": "sFSFqaRTjA1W"
      }
    },
    {
      "cell_type": "code",
      "source": [
        "grad = GradientDescent(x_test_flat, y_test,learning_rate=0.01, max_iters=50, batch_size=10000)\n",
        "mlp = MLP(relu , relu_prime, 2, [128,128], grad, True, 0.1)\n",
        "mlp.fit(x_train_flat,y_train)\n",
        "\n",
        "yh = mlp.predict(x_test_flat)\n",
        "ytrainh = mlp.predict(x_train_flat)\n",
        "\n",
        "np.set_printoptions(threshold=sys.maxsize)\n",
        "\n",
        "print(\"Train: \", evaluate_acc(ytrainh, y_train))\n",
        "print(\"Test: \", evaluate_acc(yh, y_test))\n",
        "\n",
        "grad = GradientDescent(x_test_flat, y_test,learning_rate=0.01, max_iters=50, batch_size=10000)\n",
        "mlp = MLP(relu , relu_prime, 2, [128,128], grad, True, 0.2)\n",
        "mlp.fit(x_train_flat,y_train)\n",
        "\n",
        "yh = mlp.predict(x_test_flat)\n",
        "ytrainh = mlp.predict(x_train_flat)\n",
        "\n",
        "np.set_printoptions(threshold=sys.maxsize)\n",
        "\n",
        "print(\"Train: \", evaluate_acc(ytrainh, y_train))\n",
        "print(\"Test: \", evaluate_acc(yh, y_test))\n",
        "\n",
        "grad = GradientDescent(x_test_flat, y_test,learning_rate=0.01, max_iters=50, batch_size=10000)\n",
        "mlp = MLP(relu , relu_prime, 2, [128,128], grad, True, 0.3)\n",
        "mlp.fit(x_train_flat,y_train)\n",
        "\n",
        "yh = mlp.predict(x_test_flat)\n",
        "ytrainh = mlp.predict(x_train_flat)\n",
        "\n",
        "np.set_printoptions(threshold=sys.maxsize)\n",
        "\n",
        "print(\"Train: \", evaluate_acc(ytrainh, y_train))\n",
        "print(\"Test: \", evaluate_acc(yh, y_test))"
      ],
      "metadata": {
        "colab": {
          "base_uri": "https://localhost:8080/",
          "height": 907
        },
        "id": "RASsdV6hjDyR",
        "outputId": "42bc2bcf-d844-4498-ca22-7edf23046016"
      },
      "execution_count": null,
      "outputs": [
        {
          "output_type": "display_data",
          "data": {
            "text/plain": [
              "<Figure size 432x288 with 1 Axes>"
            ],
            "image/png": "[encoded data removed]"
          },
          "metadata": {
            "needs_background": "light"
          }
        },
        {
          "output_type": "stream",
          "name": "stdout",
          "text": [
            "Train:  0.64075\n",
            "Test:  0.6353\n"
          ]
        },
        {
          "output_type": "display_data",
          "data": {
            "text/plain": [
              "<Figure size 432x288 with 1 Axes>"
            ],
            "image/png": "[encoded data removed]"
          },
          "metadata": {
            "needs_background": "light"
          }
        },
        {
          "output_type": "stream",
          "name": "stdout",
          "text": [
            "Train:  0.5931833333333333\n",
            "Test:  0.5894\n"
          ]
        },
        {
          "output_type": "display_data",
          "data": {
            "text/plain": [
              "<Figure size 432x288 with 1 Axes>"
            ],
            "image/png": "[encoded data removed]"
          },
          "metadata": {
            "needs_background": "light"
          }
        },
        {
          "output_type": "stream",
          "name": "stdout",
          "text": [
            "Train:  0.6024166666666667\n",
            "Test:  0.5954\n"
          ]
        }
      ]
    },
    {
      "cell_type": "markdown",
      "source": [
        "## Task 4\n",
        "\n",
        "Training with unnormalized images"
      ],
      "metadata": {
        "id": "X-G-26g_1xUS"
      }
    },
    {
      "cell_type": "code",
      "source": [
        "grad = GradientDescent(x_test_flat, y_test,learning_rate=0.1, max_iters=100, batch_size=10000)\n",
        "mlp = MLP(relu, relu_prime, 2, [128,128], grad)\n",
        "\n",
        "mlp.fit(x_train_flat_raw,y_train)\n",
        "\n",
        "yh = mlp.predict(x_test_flat_raw)\n",
        "ytrainh = mlp.predict(x_train_flat_raw)\n",
        "\n",
        "np.set_printoptions(threshold=sys.maxsize)\n",
        "\n",
        "print(\"Train: \", evaluate_acc(ytrainh, y_train))\n",
        "print(\"Test: \", evaluate_acc(yh, y_test))"
      ],
      "metadata": {
        "colab": {
          "base_uri": "https://localhost:8080/",
          "height": 316
        },
        "id": "TizWaGUf1xIN",
        "outputId": "7f55d700-7774-4601-8fe7-20725e6f939d"
      },
      "execution_count": null,
      "outputs": [
        {
          "output_type": "display_data",
          "data": {
            "text/plain": [
              "<Figure size 432x288 with 1 Axes>"
            ],
            "image/png": "[encoded data removed]"
          },
          "metadata": {
            "needs_background": "light"
          }
        },
        {
          "output_type": "stream",
          "name": "stdout",
          "text": [
            "Train:  0.6167833333333334\n",
            "Test:  0.6086\n"
          ]
        }
      ]
    },
    {
      "cell_type": "markdown",
      "source": [
        "## Task 5"
      ],
      "metadata": {
        "id": "BtV1ta0Kl34f"
      }
    },
    {
      "cell_type": "markdown",
      "source": [
        "Neural Network Using Keras"
      ],
      "metadata": {
        "id": "ABpjqCjydDIW"
      }
    },
    {
      "cell_type": "code",
      "source": [
        "model = tf.keras.models.Sequential()\n",
        "model.add(layers.Dense(128, activation='relu', input_dim=784))\n",
        "model.add(layers.Dense(128, activation='relu'))\n",
        "model.add(layers.Dense(10))\n",
        "model.summary()\n",
        "\n",
        "model.compile(optimizer='adam',\n",
        "              loss=tf.keras.losses.SparseCategoricalCrossentropy(from_logits=True),\n",
        "              metrics=['accuracy'])\n",
        "history = model.fit(x_train_flat, y_train_raw, epochs=10, validation_data=(x_test_flat,y_test_raw))"
      ],
      "metadata": {
        "colab": {
          "base_uri": "https://localhost:8080/"
        },
        "id": "QB0ZChkBUxZU",
        "outputId": "7f1af2d8-03e3-4365-f323-d669292f7f38"
      },
      "execution_count": null,
      "outputs": [
        {
          "output_type": "stream",
          "name": "stdout",
          "text": [
            "Model: \"sequential_4\"\n",
            "_________________________________________________________________\n",
            " Layer (type)                Output Shape              Param #   \n",
            "=================================================================\n",
            " dense_10 (Dense)            (None, 128)               100480    \n",
            "                                                                 \n",
            " dense_11 (Dense)            (None, 128)               16512     \n",
            "                                                                 \n",
            " dense_12 (Dense)            (None, 10)                1290      \n",
            "                                                                 \n",
            "=================================================================\n",
            "Total params: 118,282\n",
            "Trainable params: 118,282\n",
            "Non-trainable params: 0\n",
            "_________________________________________________________________\n",
            "Epoch 1/10\n",
            "1875/1875 [==============================] - 6s 3ms/step - loss: 0.4834 - accuracy: 0.8264 - val_loss: 0.4221 - val_accuracy: 0.8485\n",
            "Epoch 2/10\n",
            "1875/1875 [==============================] - 6s 3ms/step - loss: 0.3618 - accuracy: 0.8668 - val_loss: 0.3845 - val_accuracy: 0.8602\n",
            "Epoch 3/10\n",
            "1875/1875 [==============================] - 6s 3ms/step - loss: 0.3264 - accuracy: 0.8793 - val_loss: 0.4068 - val_accuracy: 0.8550\n",
            "Epoch 4/10\n",
            "1875/1875 [==============================] - 10s 5ms/step - loss: 0.3049 - accuracy: 0.8860 - val_loss: 0.3617 - val_accuracy: 0.8721\n",
            "Epoch 5/10\n",
            "1875/1875 [==============================] - 6s 3ms/step - loss: 0.2867 - accuracy: 0.8930 - val_loss: 0.3605 - val_accuracy: 0.8690\n",
            "Epoch 6/10\n",
            "1875/1875 [==============================] - 6s 3ms/step - loss: 0.2729 - accuracy: 0.8973 - val_loss: 0.3373 - val_accuracy: 0.8760\n",
            "Epoch 7/10\n",
            "1875/1875 [==============================] - 6s 3ms/step - loss: 0.2594 - accuracy: 0.9013 - val_loss: 0.3399 - val_accuracy: 0.8777\n",
            "Epoch 8/10\n",
            "1875/1875 [==============================] - 6s 3ms/step - loss: 0.2485 - accuracy: 0.9059 - val_loss: 0.3414 - val_accuracy: 0.8779\n",
            "Epoch 9/10\n",
            "1875/1875 [==============================] - 6s 3ms/step - loss: 0.2407 - accuracy: 0.9087 - val_loss: 0.3337 - val_accuracy: 0.8841\n",
            "Epoch 10/10\n",
            "1875/1875 [==============================] - 6s 3ms/step - loss: 0.2321 - accuracy: 0.9125 - val_loss: 0.3583 - val_accuracy: 0.8813\n"
          ]
        }
      ]
    },
    {
      "cell_type": "code",
      "source": [
        "plt.plot(history.history['accuracy'], label='accuracy')\n",
        "plt.plot(history.history['val_accuracy'], label = 'val_accuracy')\n",
        "plt.xlabel('Epoch')\n",
        "plt.ylabel('Accuracy')\n",
        "plt.ylim([0.5, 1])\n",
        "plt.legend(loc='lower right')\n",
        "\n",
        "test_loss, test_acc = model.evaluate(x_test_flat,  y_test_raw, verbose=2)"
      ],
      "metadata": {
        "colab": {
          "base_uri": "https://localhost:8080/",
          "height": 300
        },
        "id": "qIVa1uEOdAb8",
        "outputId": "a6083fff-6f7c-4070-8a76-4789d3bd03ec"
      },
      "execution_count": null,
      "outputs": [
        {
          "output_type": "stream",
          "name": "stdout",
          "text": [
            "313/313 - 0s - loss: 0.3583 - accuracy: 0.8813 - 421ms/epoch - 1ms/step\n"
          ]
        },
        {
          "output_type": "display_data",
          "data": {
            "text/plain": [
              "<Figure size 432x288 with 1 Axes>"
            ],
            "image/png": "[encoded data removed]"
          },
          "metadata": {
            "needs_background": "light"
          }
        }
      ]
    },
    {
      "cell_type": "markdown",
      "source": [
        "CNN using Keras"
      ],
      "metadata": {
        "id": "v-k58ZxMdBJC"
      }
    },
    {
      "cell_type": "code",
      "source": [
        "model = tf.keras.models.Sequential()\n",
        "model.add(layers.Conv2D(32,(3,3), activation='relu', input_shape=(28,28,1)))\n",
        "model.add(layers.Conv2D(64,(3,3),activation='relu'))\n",
        "model.add(layers.Flatten())\n",
        "model.add(layers.Dense(128, activation='relu'))\n",
        "model.add(layers.Dense(128, activation='relu'))\n",
        "model.add(layers.Dense(10))\n",
        "model.summary()\n",
        "\n",
        "model.compile(optimizer='adam',\n",
        "              loss=tf.keras.losses.SparseCategoricalCrossentropy(from_logits=True),\n",
        "              metrics=['accuracy'])\n",
        "history = model.fit(x_train, y_train_raw, epochs=10, validation_data=(x_test,y_test_raw))"
      ],
      "metadata": {
        "colab": {
          "base_uri": "https://localhost:8080/"
        },
        "id": "NIyWxsj-k8eR",
        "outputId": "cb8e518f-fa33-427b-ee79-018bccf12c61"
      },
      "execution_count": null,
      "outputs": [
        {
          "output_type": "stream",
          "name": "stdout",
          "text": [
            "Model: \"sequential\"\n",
            "_________________________________________________________________\n",
            " Layer (type)                Output Shape              Param #   \n",
            "=================================================================\n",
            " conv2d (Conv2D)             (None, 26, 26, 32)        320       \n",
            "                                                                 \n",
            " conv2d_1 (Conv2D)           (None, 24, 24, 64)        18496     \n",
            "                                                                 \n",
            " flatten (Flatten)           (None, 36864)             0         \n",
            "                                                                 \n",
            " dense (Dense)               (None, 128)               4718720   \n",
            "                                                                 \n",
            " dense_1 (Dense)             (None, 128)               16512     \n",
            "                                                                 \n",
            " dense_2 (Dense)             (None, 10)                1290      \n",
            "                                                                 \n",
            "=================================================================\n",
            "Total params: 4,755,338\n",
            "Trainable params: 4,755,338\n",
            "Non-trainable params: 0\n",
            "_________________________________________________________________\n",
            "Epoch 1/10\n",
            "1875/1875 [==============================] - 235s 125ms/step - loss: 0.3690 - accuracy: 0.8651 - val_loss: 0.2800 - val_accuracy: 0.8917\n",
            "Epoch 2/10\n",
            "1875/1875 [==============================] - 235s 125ms/step - loss: 0.2252 - accuracy: 0.9163 - val_loss: 0.2702 - val_accuracy: 0.9034\n",
            "Epoch 3/10\n",
            "1875/1875 [==============================] - 240s 128ms/step - loss: 0.1642 - accuracy: 0.9390 - val_loss: 0.2614 - val_accuracy: 0.9082\n",
            "Epoch 4/10\n",
            "1875/1875 [==============================] - 240s 128ms/step - loss: 0.1148 - accuracy: 0.9571 - val_loss: 0.2880 - val_accuracy: 0.9141\n",
            "Epoch 5/10\n",
            "1875/1875 [==============================] - 236s 126ms/step - loss: 0.0750 - accuracy: 0.9722 - val_loss: 0.3433 - val_accuracy: 0.9074\n",
            "Epoch 6/10\n",
            "1875/1875 [==============================] - 237s 127ms/step - loss: 0.0523 - accuracy: 0.9814 - val_loss: 0.3928 - val_accuracy: 0.9061\n",
            "Epoch 7/10\n",
            "1875/1875 [==============================] - 236s 126ms/step - loss: 0.0376 - accuracy: 0.9868 - val_loss: 0.4403 - val_accuracy: 0.9096\n",
            "Epoch 8/10\n",
            "1875/1875 [==============================] - 237s 126ms/step - loss: 0.0303 - accuracy: 0.9893 - val_loss: 0.5357 - val_accuracy: 0.9055\n",
            "Epoch 9/10\n",
            "1875/1875 [==============================] - 237s 127ms/step - loss: 0.0258 - accuracy: 0.9915 - val_loss: 0.5663 - val_accuracy: 0.9082\n",
            "Epoch 10/10\n",
            "1875/1875 [==============================] - 239s 127ms/step - loss: 0.0233 - accuracy: 0.9917 - val_loss: 0.5855 - val_accuracy: 0.9074\n"
          ]
        }
      ]
    },
    {
      "cell_type": "code",
      "source": [
        "plt.plot(history.history['accuracy'], label='accuracy')\n",
        "plt.plot(history.history['val_accuracy'], label = 'val_accuracy')\n",
        "plt.xlabel('Epoch')\n",
        "plt.ylabel('Accuracy')\n",
        "plt.ylim([0.5, 1])\n",
        "plt.legend(loc='lower right')\n",
        "\n",
        "test_loss, test_acc = model.evaluate(x_test,  y_test_raw, verbose=2)"
      ],
      "metadata": {
        "id": "J3uHSQu2mdDC"
      },
      "execution_count": null,
      "outputs": []
    },
    {
      "cell_type": "markdown",
      "source": [
        "## Task 6\n",
        "\n",
        "Finding the best model"
      ],
      "metadata": {
        "id": "bnbUoVkkjYat"
      }
    },
    {
      "cell_type": "code",
      "source": [
        "activation_fx = [(relu, relu_prime, 'relu'), (logistic, logistic_prime, 'sigmoid'), (swish, swish_prime, 'swish'), (cube_root, cube_root_prime, 'cbrt')]\n",
        "num_layers = [1,2,3]\n",
        "num_nodes = [32, 64, 128]\n",
        "\n",
        "grad = GradientDescent(x_test_flat, y_test,learning_rate=0.5, max_iters=50, batch_size=10000)\n",
        "\n",
        "scores = []\n",
        "\n",
        "for act, act_prime, act_str in activation_fx:\n",
        "    for num_layer in num_layers:\n",
        "        for num_node in num_nodes:\n",
        "            \n",
        "            mlp = MLP(act, act_prime, num_layer, [num_node]*num_layer, grad)\n",
        "\n",
        "            mlp.fit(x_train_flat,y_train)\n",
        "\n",
        "            yh = mlp.predict(x_test_flat)\n",
        "            ytrainh = mlp.predict(x_train_flat)\n",
        "\n",
        "            config = \"[\" + act_str + \"]\" + \"[\" + str(num_layer) + \"-hidden\" + \"]\" + \"[\" + str(num_node) + \"-nodes\" + \"]\"\n",
        "            trainscore = evaluate_acc(ytrainh, y_train)\n",
        "            testscore = evaluate_acc(yh, y_test)\n",
        "\n",
        "\n",
        "            scores.append((config, trainscore, testscore))\n",
        "\n",
        "for config, trainscore, testscore in scores:\n",
        "    print(\"Train\" + config + \": \", trainscore)\n",
        "    print(\"Test\" + config + \": \", testscore)\n",
        "    print()\n",
        "\n",
        "best_config, best_trainscore, best_testscore = max(scores, key=lambda item: item[2])\n",
        "print(\"The best model is:\")\n",
        "print(\"Train\" + best_config + \": \", best_trainscore)\n",
        "print(\"Test\" + best_config + \": \", best_testscore)"
      ],
      "metadata": {
        "id": "MJngPMp5jMO7"
      },
      "execution_count": null,
      "outputs": []
    }
  ]
}